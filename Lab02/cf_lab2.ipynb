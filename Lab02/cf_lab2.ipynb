{
 "cells": [
  {
   "cell_type": "markdown",
   "metadata": {},
   "source": [
    "# Lab 2.1 (view the instructions on github, or download the current zip and open in Jupyter Lab)"
   ]
  },
  {
   "cell_type": "markdown",
   "metadata": {},
   "source": [
    "## Shell"
   ]
  },
  {
   "cell_type": "markdown",
   "metadata": {},
   "source": [
    "Note: The command man is not available on Git Bash for Windows. <br> Use --help after the command instead. \n"
   ]
  },
  {
   "cell_type": "markdown",
   "metadata": {},
   "source": [
    "```bash\n",
    "ls --help\n",
    "```"
   ]
  },
  {
   "cell_type": "markdown",
   "metadata": {},
   "source": [
    "`ls`\n",
    "lists the content of the current location."
   ]
  },
  {
   "cell_type": "markdown",
   "metadata": {},
   "source": [
    "```bash\n",
    "ls -al\n",
    "```"
   ]
  },
  {
   "cell_type": "markdown",
   "metadata": {},
   "source": [
    "`al` gives all the folders (including hidden ones) with last modified dates."
   ]
  },
  {
   "cell_type": "markdown",
   "metadata": {},
   "source": [
    "`pwd` prints the working directory.\n",
    "`mkdir PTUA2021` makes a directory with this name in the current directory. <br>\n",
    "`cd PTUA2021` changes your directory into this PTUA2021 directory. <br>\n",
    "Use `mkdir PTUA2021-lab2` to create a directory under your current one. <br>\n",
    "Check browser. <br>\n",
    "`cd PTUA2021-lab2` enters this directory. <br>\n",
    "`pwd` prints working directory (shoud be sth like PTUA2021/PTUA2021-lab2). <br>\n",
    "`cd` brings you back to your home directory. So this is useful when you get lost. <br>\n",
    "\n"
   ]
  },
  {
   "cell_type": "markdown",
   "metadata": {},
   "source": [
    "## Python Interpretor"
   ]
  },
  {
   "cell_type": "markdown",
   "metadata": {},
   "source": [
    " In Anaconda, open Spyder or any python interpretor of your choice. <br>\n",
    "    `exit()` exits the console. <br>\n",
    "    `help()` enters the interactive help system. Type `keywords` to find out about keywords in Python. There are 35 keywords. <br>\n",
    "    `quit` to exit. <br>\n",
    "    Try help('keywords'). Be careful with the difference ``(top left of keyboard) and ''(on your right, regular quotation marks)! <br>\n",
    "    \n",
    "    "
   ]
  },
  {
   "cell_type": "markdown",
   "metadata": {},
   "source": [
    "## Editing in shell"
   ]
  },
  {
   "cell_type": "markdown",
   "metadata": {},
   "source": [
    "Go to the PTUA2021-lab2 directory with `cd PTUA2021/PTUA2021-lab2`. <br>\n",
    "`mkdir exercises` to make a directory called exercises. <br>\n",
    "`cd exercises` to enter the directory. <br>\n",
    "`mkdir Lab02` to make a directory inside called Lab02. <br>\n",
    "`pwd` <br>\n",
    "`touch Lab02.py` creates an empty python script there. You should be able to see it by `ls` or just looking at the folder. <br>\n",
    "`vim Lab02.py` opens the file. <br>\n",
    "Press `i` to start the insert mode in vim. <br>\n",
    "Type in the follow python code: \n",
    "```python   \n",
    "message = \"hello world\"\n",
    "print message\n",
    "```\n",
    "Press `Esc`. <br>\n",
    "Use command `:wq` to save the python script. <br>\n",
    "You may also use `nano Lab02.py` to edit the script (taught in datacamp). It's just a different editor. Refer to the instructions on screen to edit. <br>\n",
    "`ls` <br>\n",
    "`cat Lab02.py`. It shows the text in the script. <br>\n",
    "`python Lab02.py` (it will not work in the Git Bash). You can open this on Python console or Jupyter Lab. <br>\n",
    "Now edit the file to change the content of the message. Check if it worked. <br>\n",
    "`cp Lab02.py Lab02-copy.py` copies the first script, which will have the name of Lab02-copy.py. <br>\n",
    "`mkdir Lab02-2` <br>\n",
    "`mv` Move your `Lab02-copy.py` to the new directory `Lab02-2` using `mv Lab02-copy Lab02-2`. <br>\n",
    "`cd Lab02-2` <br>\n",
    "`ls` <br>\n",
    "`rm` Delete the Lab02-copy.py by `rm Lab02-copy.py` <br>\n",
    "`cd ..` brings you back to one directory up. <br>\n",
    "Remove the directory by `rm Lab02-2` <br>\n",
    "\n",
    "\n",
    "\n"
   ]
  },
  {
   "cell_type": "markdown",
   "metadata": {},
   "source": [
    "# Lab 2.2"
   ]
  },
  {
   "cell_type": "markdown",
   "metadata": {},
   "source": [
    "## Check/create ssh key"
   ]
  },
  {
   "cell_type": "markdown",
   "metadata": {},
   "source": [
    "Check if there is already an ssh key using `ls -al ~/.ssh`. <br>\n",
    "If not, follow the instructions here: [new ssh key](https://docs.github.com/en/github/authenticating-to-github/generating-a-new-ssh-key-and-adding-it-to-the-ssh-agent). <br>\n"
   ]
  },
  {
   "cell_type": "markdown",
   "metadata": {},
   "source": [
    "## Clone repository (the one you forked)"
   ]
  },
  {
   "cell_type": "markdown",
   "metadata": {},
   "source": [
    "`cd C:/Users/fungc/github/PTUA2021` to get into the directoy you want. <br>\n",
    "`git init` to create the related git files as a skeleton of repository. <br>\n",
    "`git clone https://github.com/chaumanfung/PTUA2021.git` (not the master one; use the forked one with your name). <br>\n",
    "`git remote -v` You should be able to see the origin. <br>\n",
    "`git remote add upstream git@github.com:qszhao/PTUA2021.git` to set upstream. <br>\n",
    "*** This will be useful for future update of your copy of the labs *** <br>\n",
    "``` bash\n",
    "git pull upstream master\n",
    "```\n",
    "`git checkout -b Lab02` to create the branch. (`testing` in my files) <br>\n",
    "This is equivalent to `git branch Lab02` and `git checkout Lab02`. <br>\n",
    "(`git branch -d Lab02` delete the branch locally.) <br>\n",
    "`mkdir Lab02` <br>\n",
    "`touch Lab02.py` creates an empty python script. <br>\n",
    "`vim Lab02.py` opens the file. <br>\n",
    "Press `i` to start the insert mode in vim. <br>\n",
    "Press `Esc`. <br>\n",
    "Use command `:wq` to save the python script. <br>\n",
    "You may also use `nano Lab02.py` to edit the script (taught in datacamp). It's just a different editor. Refer to the instructions on screen to edit. <br>"
   ]
  },
  {
   "cell_type": "code",
   "execution_count": 5,
   "metadata": {
    "collapsed": true,
    "jupyter": {
     "outputs_hidden": true
    }
   },
   "outputs": [
    {
     "name": "stdout",
     "output_type": "stream",
     "text": [
      "1\n",
      "3\n",
      "5\n",
      "7\n",
      "9\n",
      "11\n",
      "13\n",
      "15\n",
      "17\n",
      "19\n",
      "21\n",
      "23\n",
      "25\n",
      "27\n",
      "29\n",
      "31\n",
      "33\n",
      "35\n",
      "37\n",
      "39\n",
      "41\n",
      "43\n",
      "45\n",
      "47\n",
      "49\n",
      "51\n",
      "53\n",
      "55\n",
      "57\n",
      "59\n",
      "61\n",
      "63\n",
      "65\n",
      "67\n",
      "69\n",
      "71\n",
      "73\n",
      "75\n",
      "77\n",
      "79\n",
      "81\n",
      "83\n",
      "85\n",
      "87\n",
      "89\n",
      "91\n",
      "93\n",
      "95\n",
      "97\n",
      "99\n"
     ]
    }
   ],
   "source": [
    "# In Lab02.py\n",
    "# print odd numbers from 0 to 100\n",
    "\n",
    "for num in range(0, 100 + 1): \n",
    "    if num % 2 != 0: \n",
    "        print(num) \n",
    "# the indentation matters! (4 spaces)"
   ]
  },
  {
   "cell_type": "markdown",
   "metadata": {},
   "source": [
    "## To commit and push (force changes to your branch)\n",
    "`git status` to see un-commited changes.<br>\n",
    "`git add Lab02.py` <br>\n",
    "`git commit -m \"add a python file\" with the message.` <br>\n",
    "`git push origin testing` (testing is my branch name)"
   ]
  },
  {
   "cell_type": "markdown",
   "metadata": {},
   "source": [
    "## Pull request (so that others can know about your contribution, review and discuss, before changes are merged into the main)\n",
    "On your personal GitHub account create a pull request based on the commits for this exercise. The target should be the `master`  branch of your individual repository on the organization account. The origin should be the `Lab02` branch on your personal remote GitHub repository."
   ]
  },
  {
   "cell_type": "code",
   "execution_count": null,
   "metadata": {},
   "outputs": [],
   "source": []
  }
 ],
 "metadata": {
  "kernelspec": {
   "display_name": "Python 3",
   "language": "python",
   "name": "python3"
  },
  "language_info": {
   "codemirror_mode": {
    "name": "ipython",
    "version": 3
   },
   "file_extension": ".py",
   "mimetype": "text/x-python",
   "name": "python",
   "nbconvert_exporter": "python",
   "pygments_lexer": "ipython3",
   "version": "3.7.6"
  }
 },
 "nbformat": 4,
 "nbformat_minor": 4
}
